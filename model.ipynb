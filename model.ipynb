{
 "cells": [
  {
   "cell_type": "code",
   "execution_count": 1,
   "metadata": {},
   "outputs": [],
   "source": [
    "import numpy as np\n",
    "import matplotlib.pyplot as plt\n",
    "import pandas as pd\n",
    "import time\n",
    "import os\n",
    "from tqdm import tqdm\n",
    "import features_extraction_modul as fem\n",
    "from sklearn.model_selection import train_test_split\n",
    "from sklearn.preprocessing import StandardScaler\n",
    "from sklearn.metrics import mean_absolute_error\n",
    "import tensorflow as tf"
   ]
  },
  {
   "cell_type": "code",
   "execution_count": 4,
   "metadata": {},
   "outputs": [],
   "source": [
    "ef_path = \"extracted_features_large/\"\n",
    "files = os.listdir(ef_path)"
   ]
  },
  {
   "cell_type": "code",
   "execution_count": 5,
   "metadata": {},
   "outputs": [
    {
     "name": "stdout",
     "output_type": "stream",
     "text": [
      "x_train00.csv\n",
      "x_train01.csv\n",
      "x_train02.csv\n",
      "x_train03.csv\n",
      "x_train04.csv\n",
      "x_train05.csv\n",
      "x_train06.csv\n",
      "x_train07.csv\n",
      "x_train08.csv\n",
      "x_train09.csv\n",
      "x_train10.csv\n",
      "x_train11.csv\n",
      "x_train12.csv\n",
      "x_train13.csv\n",
      "x_train14.csv\n",
      "x_train_t9_02.csv\n",
      "x_train_t9_07.csv\n",
      "x_train_t9_14.csv\n",
      "y_train00.csv\n",
      "y_train01.csv\n",
      "y_train02.csv\n",
      "y_train03.csv\n",
      "y_train04.csv\n",
      "y_train05.csv\n",
      "y_train06.csv\n",
      "y_train07.csv\n",
      "y_train08.csv\n",
      "y_train09.csv\n",
      "y_train10.csv\n",
      "y_train11.csv\n",
      "y_train12.csv\n",
      "y_train13.csv\n",
      "y_train14.csv\n",
      "y_train_t9_02.csv\n",
      "y_train_t9_07.csv\n",
      "y_train_t9_14.csv\n"
     ]
    }
   ],
   "source": [
    "x_pd_array = []\n",
    "y_pd_array = []\n",
    "for f in files:\n",
    "    print(f)\n",
    "    i_ef =  pd.read_csv(ef_path+f)\n",
    "    if f[0] == \"x\":\n",
    "        x_pd_array.append(i_ef)\n",
    "    else:\n",
    "        y_pd_array.append(i_ef)"
   ]
  },
  {
   "cell_type": "code",
   "execution_count": 6,
   "metadata": {},
   "outputs": [],
   "source": [
    "x_train = pd.concat(x_pd_array, ignore_index = True).iloc[:, 1:]\n",
    "y_train = pd.concat(y_pd_array, ignore_index = True).iloc[:, 1:]"
   ]
  },
  {
   "cell_type": "code",
   "execution_count": 8,
   "metadata": {},
   "outputs": [],
   "source": [
    "x_train, x_test, y_train, y_test = train_test_split(x_train, y_train, test_size = 0.2, random_state = 101)"
   ]
  },
  {
   "cell_type": "code",
   "execution_count": 9,
   "metadata": {},
   "outputs": [],
   "source": [
    "#normalizing the data\n",
    "scaler = StandardScaler()\n",
    "scaler.fit(x_train)\n",
    "x_train_scaled = scaler.transform(x_train)\n",
    "x_test_scaled = scaler.transform(x_test)\n",
    "\n",
    "y_train_flatten = y_train.values.ravel() #flattening the y_train\n",
    "y_test_flatten = y_test.values.ravel() #flattening the y_test"
   ]
  },
  {
   "cell_type": "code",
   "execution_count": 10,
   "metadata": {},
   "outputs": [
    {
     "name": "stdout",
     "output_type": "stream",
     "text": [
      "(4220, 98)\n",
      "(1056, 98)\n",
      "(4220,)\n",
      "(1056,)\n"
     ]
    }
   ],
   "source": [
    "print(x_train_scaled.shape)\n",
    "print(x_test_scaled.shape)\n",
    "print(y_train_flatten.shape)\n",
    "print(y_test_flatten.shape)"
   ]
  },
  {
   "cell_type": "code",
   "execution_count": 140,
   "metadata": {},
   "outputs": [],
   "source": [
    "def GetModel():\n",
    "    nInputs = x_train_scaled.shape[1]\n",
    "    inputs = tf.keras.Input(shape=(nInputs, ), name = \"features\")\n",
    "    activation = tf.keras.layers.Activation(tf.nn.leaky_relu)\n",
    "    x = inputs\n",
    "    for iLayer in range(0,6):\n",
    "        dense = 1024/2**(iLayer)\n",
    "        x = tf.keras.layers.Dense(dense, activation=activation, name=\"layer_{}\".format(iLayer))(x)\n",
    "        x = tf.keras.layers.Dropout(0.35)(x)\n",
    "    \n",
    "    outputs = tf.keras.layers.Dense(1, activation=tf.keras.activations.relu,\n",
    "                               bias_initializer='zeros',\n",
    "                               name = \"time\")(x)\n",
    "    model = tf.keras.Model(inputs=inputs, outputs=outputs, name = \"NN1\")\n",
    "    initial_learning_rate = 0.00005\n",
    "    lr_schedule = tf.keras.optimizers.schedules.ExponentialDecay(\n",
    "    initial_learning_rate,\n",
    "    decay_steps=1000,\n",
    "    decay_rate=0.95,\n",
    "    staircase=True)\n",
    "  \n",
    "    model.compile(optimizer=tf.keras.optimizers.Adam(learning_rate=lr_schedule),\n",
    "                loss=tf.keras.losses.MeanAbsoluteError(),\n",
    "                metrics=['mean_absolute_error'])\n",
    "    tf.keras.utils.plot_model(model, 'ML_model.png', show_shapes=True)\n",
    "    return model\n",
    "    \n",
    "    "
   ]
  },
  {
   "cell_type": "code",
   "execution_count": 141,
   "metadata": {},
   "outputs": [
    {
     "name": "stdout",
     "output_type": "stream",
     "text": [
      "('You must install pydot (`pip install pydot`) and install graphviz (see instructions at https://graphviz.gitlab.io/download/) ', 'for plot_model/model_to_dot to work.')\n",
      "Model: \"NN1\"\n",
      "_________________________________________________________________\n",
      "Layer (type)                 Output Shape              Param #   \n",
      "=================================================================\n",
      "features (InputLayer)        [(None, 98)]              0         \n",
      "_________________________________________________________________\n",
      "layer_0 (Dense)              (None, 1024)              101376    \n",
      "_________________________________________________________________\n",
      "dropout_63 (Dropout)         (None, 1024)              0         \n",
      "_________________________________________________________________\n",
      "layer_1 (Dense)              (None, 512)               524800    \n",
      "_________________________________________________________________\n",
      "dropout_64 (Dropout)         (None, 512)               0         \n",
      "_________________________________________________________________\n",
      "layer_2 (Dense)              (None, 256)               131328    \n",
      "_________________________________________________________________\n",
      "dropout_65 (Dropout)         (None, 256)               0         \n",
      "_________________________________________________________________\n",
      "layer_3 (Dense)              (None, 128)               32896     \n",
      "_________________________________________________________________\n",
      "dropout_66 (Dropout)         (None, 128)               0         \n",
      "_________________________________________________________________\n",
      "layer_4 (Dense)              (None, 64)                8256      \n",
      "_________________________________________________________________\n",
      "dropout_67 (Dropout)         (None, 64)                0         \n",
      "_________________________________________________________________\n",
      "layer_5 (Dense)              (None, 32)                2080      \n",
      "_________________________________________________________________\n",
      "dropout_68 (Dropout)         (None, 32)                0         \n",
      "_________________________________________________________________\n",
      "time (Dense)                 (None, 1)                 33        \n",
      "=================================================================\n",
      "Total params: 800,769\n",
      "Trainable params: 800,769\n",
      "Non-trainable params: 0\n",
      "_________________________________________________________________\n",
      "Epoch 1/100\n",
      "132/132 - 2s - loss: 5.9202 - mean_absolute_error: 5.9202 - val_loss: 3.0851 - val_mean_absolute_error: 3.0851\n",
      "Epoch 2/100\n",
      "132/132 - 1s - loss: 3.6489 - mean_absolute_error: 3.6489 - val_loss: 3.0113 - val_mean_absolute_error: 3.0113\n",
      "Epoch 3/100\n",
      "132/132 - 1s - loss: 3.5064 - mean_absolute_error: 3.5064 - val_loss: 2.9194 - val_mean_absolute_error: 2.9194\n",
      "Epoch 4/100\n",
      "132/132 - 1s - loss: 3.4286 - mean_absolute_error: 3.4286 - val_loss: 2.9183 - val_mean_absolute_error: 2.9183\n",
      "Epoch 5/100\n",
      "132/132 - 1s - loss: 3.2847 - mean_absolute_error: 3.2847 - val_loss: 2.8685 - val_mean_absolute_error: 2.8685\n",
      "Epoch 6/100\n",
      "132/132 - 1s - loss: 3.1946 - mean_absolute_error: 3.1946 - val_loss: 2.7767 - val_mean_absolute_error: 2.7767\n",
      "Epoch 7/100\n",
      "132/132 - 1s - loss: 3.1641 - mean_absolute_error: 3.1641 - val_loss: 2.8156 - val_mean_absolute_error: 2.8156\n",
      "Epoch 8/100\n",
      "132/132 - 1s - loss: 3.1147 - mean_absolute_error: 3.1147 - val_loss: 2.7418 - val_mean_absolute_error: 2.7418\n",
      "Epoch 9/100\n",
      "132/132 - 1s - loss: 3.1110 - mean_absolute_error: 3.1110 - val_loss: 2.7318 - val_mean_absolute_error: 2.7318\n",
      "Epoch 10/100\n",
      "132/132 - 2s - loss: 3.1111 - mean_absolute_error: 3.1111 - val_loss: 2.7078 - val_mean_absolute_error: 2.7078\n",
      "Epoch 11/100\n",
      "132/132 - 2s - loss: 3.0008 - mean_absolute_error: 3.0008 - val_loss: 2.8441 - val_mean_absolute_error: 2.8441\n",
      "Epoch 12/100\n",
      "132/132 - 2s - loss: 3.0318 - mean_absolute_error: 3.0318 - val_loss: 2.7492 - val_mean_absolute_error: 2.7492\n",
      "Epoch 13/100\n",
      "132/132 - 2s - loss: 2.9521 - mean_absolute_error: 2.9521 - val_loss: 2.6814 - val_mean_absolute_error: 2.6814\n",
      "Epoch 14/100\n",
      "132/132 - 1s - loss: 2.9666 - mean_absolute_error: 2.9666 - val_loss: 2.6825 - val_mean_absolute_error: 2.6825\n",
      "Epoch 15/100\n",
      "132/132 - 1s - loss: 2.9591 - mean_absolute_error: 2.9591 - val_loss: 2.6409 - val_mean_absolute_error: 2.6409\n",
      "Epoch 16/100\n",
      "132/132 - 1s - loss: 2.9247 - mean_absolute_error: 2.9247 - val_loss: 2.7157 - val_mean_absolute_error: 2.7157\n",
      "Epoch 17/100\n",
      "132/132 - 1s - loss: 2.8447 - mean_absolute_error: 2.8447 - val_loss: 2.6167 - val_mean_absolute_error: 2.6167\n",
      "Epoch 18/100\n",
      "132/132 - 1s - loss: 2.8721 - mean_absolute_error: 2.8721 - val_loss: 2.6179 - val_mean_absolute_error: 2.6179\n",
      "Epoch 19/100\n",
      "132/132 - 1s - loss: 2.8941 - mean_absolute_error: 2.8941 - val_loss: 2.7694 - val_mean_absolute_error: 2.7694\n",
      "Epoch 20/100\n",
      "132/132 - 1s - loss: 2.9387 - mean_absolute_error: 2.9387 - val_loss: 2.7137 - val_mean_absolute_error: 2.7137\n",
      "Epoch 21/100\n",
      "132/132 - 1s - loss: 2.8613 - mean_absolute_error: 2.8613 - val_loss: 2.6561 - val_mean_absolute_error: 2.6561\n",
      "Epoch 22/100\n",
      "132/132 - 1s - loss: 2.8622 - mean_absolute_error: 2.8622 - val_loss: 2.7164 - val_mean_absolute_error: 2.7164\n",
      "Epoch 23/100\n",
      "132/132 - 1s - loss: 2.7865 - mean_absolute_error: 2.7865 - val_loss: 2.5909 - val_mean_absolute_error: 2.5909\n",
      "Epoch 24/100\n",
      "132/132 - 1s - loss: 2.7805 - mean_absolute_error: 2.7805 - val_loss: 2.5559 - val_mean_absolute_error: 2.5559\n",
      "Epoch 25/100\n",
      "132/132 - 1s - loss: 2.7953 - mean_absolute_error: 2.7953 - val_loss: 2.6941 - val_mean_absolute_error: 2.6941\n",
      "Epoch 26/100\n",
      "132/132 - 1s - loss: 2.7882 - mean_absolute_error: 2.7882 - val_loss: 2.5678 - val_mean_absolute_error: 2.5678\n",
      "Epoch 27/100\n",
      "132/132 - 1s - loss: 2.8094 - mean_absolute_error: 2.8094 - val_loss: 2.5648 - val_mean_absolute_error: 2.5648\n",
      "Epoch 28/100\n",
      "132/132 - 1s - loss: 2.7729 - mean_absolute_error: 2.7729 - val_loss: 2.5937 - val_mean_absolute_error: 2.5937\n",
      "Epoch 29/100\n",
      "132/132 - 1s - loss: 2.7682 - mean_absolute_error: 2.7682 - val_loss: 2.5847 - val_mean_absolute_error: 2.5847\n",
      "Epoch 30/100\n",
      "132/132 - 1s - loss: 2.7666 - mean_absolute_error: 2.7666 - val_loss: 2.6143 - val_mean_absolute_error: 2.6143\n",
      "Epoch 31/100\n",
      "132/132 - 1s - loss: 2.7748 - mean_absolute_error: 2.7748 - val_loss: 2.6094 - val_mean_absolute_error: 2.6094\n",
      "Epoch 32/100\n",
      "132/132 - 1s - loss: 2.7750 - mean_absolute_error: 2.7750 - val_loss: 2.5959 - val_mean_absolute_error: 2.5959\n",
      "Epoch 33/100\n",
      "132/132 - 1s - loss: 2.7353 - mean_absolute_error: 2.7353 - val_loss: 2.5195 - val_mean_absolute_error: 2.5195\n",
      "Epoch 34/100\n",
      "132/132 - 1s - loss: 2.7165 - mean_absolute_error: 2.7165 - val_loss: 2.6082 - val_mean_absolute_error: 2.6082\n",
      "Epoch 35/100\n",
      "132/132 - 1s - loss: 2.7658 - mean_absolute_error: 2.7658 - val_loss: 2.5747 - val_mean_absolute_error: 2.5747\n",
      "Epoch 36/100\n",
      "132/132 - 1s - loss: 2.7703 - mean_absolute_error: 2.7703 - val_loss: 2.7237 - val_mean_absolute_error: 2.7237\n",
      "Epoch 37/100\n",
      "132/132 - 1s - loss: 2.7408 - mean_absolute_error: 2.7408 - val_loss: 2.6738 - val_mean_absolute_error: 2.6738\n",
      "Epoch 38/100\n",
      "132/132 - 1s - loss: 2.7055 - mean_absolute_error: 2.7055 - val_loss: 2.6376 - val_mean_absolute_error: 2.6376\n",
      "Epoch 39/100\n",
      "132/132 - 1s - loss: 2.7102 - mean_absolute_error: 2.7102 - val_loss: 2.5861 - val_mean_absolute_error: 2.5861\n",
      "Epoch 40/100\n",
      "132/132 - 1s - loss: 2.7057 - mean_absolute_error: 2.7057 - val_loss: 2.6327 - val_mean_absolute_error: 2.6327\n",
      "Epoch 41/100\n",
      "132/132 - 1s - loss: 2.6802 - mean_absolute_error: 2.6802 - val_loss: 2.5726 - val_mean_absolute_error: 2.5726\n",
      "Epoch 42/100\n",
      "132/132 - 1s - loss: 2.6890 - mean_absolute_error: 2.6890 - val_loss: 2.5977 - val_mean_absolute_error: 2.5977\n",
      "Epoch 43/100\n",
      "132/132 - 1s - loss: 2.7067 - mean_absolute_error: 2.7067 - val_loss: 2.6492 - val_mean_absolute_error: 2.6492\n",
      "Epoch 44/100\n",
      "132/132 - 1s - loss: 2.7498 - mean_absolute_error: 2.7498 - val_loss: 2.5359 - val_mean_absolute_error: 2.5359\n",
      "Epoch 45/100\n",
      "132/132 - 1s - loss: 2.6661 - mean_absolute_error: 2.6661 - val_loss: 2.6069 - val_mean_absolute_error: 2.6069\n",
      "Epoch 46/100\n",
      "132/132 - 1s - loss: 2.6882 - mean_absolute_error: 2.6882 - val_loss: 2.6437 - val_mean_absolute_error: 2.6437\n",
      "Epoch 47/100\n",
      "132/132 - 1s - loss: 2.6558 - mean_absolute_error: 2.6558 - val_loss: 2.5684 - val_mean_absolute_error: 2.5684\n",
      "Epoch 48/100\n"
     ]
    },
    {
     "name": "stdout",
     "output_type": "stream",
     "text": [
      "132/132 - 1s - loss: 2.6626 - mean_absolute_error: 2.6626 - val_loss: 2.6047 - val_mean_absolute_error: 2.6047\n",
      "Epoch 49/100\n",
      "132/132 - 1s - loss: 2.6609 - mean_absolute_error: 2.6609 - val_loss: 2.5709 - val_mean_absolute_error: 2.5709\n",
      "Epoch 50/100\n",
      "132/132 - 1s - loss: 2.6690 - mean_absolute_error: 2.6690 - val_loss: 2.6738 - val_mean_absolute_error: 2.6738\n",
      "Epoch 51/100\n",
      "132/132 - 1s - loss: 2.6887 - mean_absolute_error: 2.6887 - val_loss: 2.5829 - val_mean_absolute_error: 2.5829\n",
      "Epoch 52/100\n",
      "132/132 - 1s - loss: 2.6531 - mean_absolute_error: 2.6531 - val_loss: 2.5757 - val_mean_absolute_error: 2.5757\n",
      "Epoch 53/100\n",
      "132/132 - 1s - loss: 2.6369 - mean_absolute_error: 2.6369 - val_loss: 2.5079 - val_mean_absolute_error: 2.5079\n",
      "Epoch 54/100\n",
      "132/132 - 1s - loss: 2.6736 - mean_absolute_error: 2.6736 - val_loss: 2.6115 - val_mean_absolute_error: 2.6115\n",
      "Epoch 55/100\n",
      "132/132 - 1s - loss: 2.6365 - mean_absolute_error: 2.6365 - val_loss: 2.5781 - val_mean_absolute_error: 2.5781\n",
      "Epoch 56/100\n",
      "132/132 - 1s - loss: 2.6245 - mean_absolute_error: 2.6245 - val_loss: 2.5344 - val_mean_absolute_error: 2.5344\n",
      "Epoch 57/100\n",
      "132/132 - 1s - loss: 2.6496 - mean_absolute_error: 2.6496 - val_loss: 2.5498 - val_mean_absolute_error: 2.5498\n",
      "Epoch 58/100\n",
      "132/132 - 1s - loss: 2.6772 - mean_absolute_error: 2.6772 - val_loss: 2.6300 - val_mean_absolute_error: 2.6300\n",
      "Epoch 59/100\n",
      "132/132 - 1s - loss: 2.6283 - mean_absolute_error: 2.6283 - val_loss: 2.5905 - val_mean_absolute_error: 2.5905\n",
      "Epoch 60/100\n",
      "132/132 - 1s - loss: 2.6641 - mean_absolute_error: 2.6641 - val_loss: 2.5352 - val_mean_absolute_error: 2.5352\n",
      "Epoch 61/100\n",
      "132/132 - 1s - loss: 2.6028 - mean_absolute_error: 2.6028 - val_loss: 2.6267 - val_mean_absolute_error: 2.6267\n",
      "Epoch 62/100\n",
      "132/132 - 1s - loss: 2.6605 - mean_absolute_error: 2.6605 - val_loss: 2.5905 - val_mean_absolute_error: 2.5905\n",
      "Epoch 63/100\n",
      "132/132 - 1s - loss: 2.6245 - mean_absolute_error: 2.6245 - val_loss: 2.5685 - val_mean_absolute_error: 2.5685\n",
      "Epoch 64/100\n",
      "132/132 - 1s - loss: 2.6013 - mean_absolute_error: 2.6013 - val_loss: 2.6325 - val_mean_absolute_error: 2.6325\n",
      "Epoch 65/100\n",
      "132/132 - 1s - loss: 2.6495 - mean_absolute_error: 2.6495 - val_loss: 2.5712 - val_mean_absolute_error: 2.5712\n",
      "Epoch 66/100\n",
      "132/132 - 1s - loss: 2.6376 - mean_absolute_error: 2.6376 - val_loss: 2.5881 - val_mean_absolute_error: 2.5881\n",
      "Epoch 67/100\n",
      "132/132 - 1s - loss: 2.6144 - mean_absolute_error: 2.6144 - val_loss: 2.5851 - val_mean_absolute_error: 2.5851\n",
      "Epoch 68/100\n",
      "132/132 - 1s - loss: 2.6220 - mean_absolute_error: 2.6220 - val_loss: 2.5544 - val_mean_absolute_error: 2.5544\n",
      "Epoch 69/100\n",
      "132/132 - 1s - loss: 2.5844 - mean_absolute_error: 2.5844 - val_loss: 2.5916 - val_mean_absolute_error: 2.5916\n",
      "Epoch 70/100\n",
      "132/132 - 1s - loss: 2.5871 - mean_absolute_error: 2.5871 - val_loss: 2.6663 - val_mean_absolute_error: 2.6663\n",
      "Epoch 71/100\n",
      "132/132 - 1s - loss: 2.6156 - mean_absolute_error: 2.6156 - val_loss: 2.5761 - val_mean_absolute_error: 2.5761\n",
      "Epoch 72/100\n",
      "132/132 - 1s - loss: 2.5886 - mean_absolute_error: 2.5886 - val_loss: 2.5836 - val_mean_absolute_error: 2.5836\n",
      "Epoch 73/100\n",
      "132/132 - 1s - loss: 2.5905 - mean_absolute_error: 2.5905 - val_loss: 2.5959 - val_mean_absolute_error: 2.5959\n",
      "Epoch 74/100\n",
      "132/132 - 1s - loss: 2.5720 - mean_absolute_error: 2.5720 - val_loss: 2.5855 - val_mean_absolute_error: 2.5855\n",
      "Epoch 75/100\n",
      "132/132 - 1s - loss: 2.6077 - mean_absolute_error: 2.6077 - val_loss: 2.5778 - val_mean_absolute_error: 2.5778\n",
      "Epoch 76/100\n",
      "132/132 - 1s - loss: 2.5848 - mean_absolute_error: 2.5848 - val_loss: 2.5109 - val_mean_absolute_error: 2.5109\n",
      "Epoch 77/100\n",
      "132/132 - 1s - loss: 2.5669 - mean_absolute_error: 2.5669 - val_loss: 2.5339 - val_mean_absolute_error: 2.5339\n",
      "Epoch 78/100\n",
      "132/132 - 1s - loss: 2.5801 - mean_absolute_error: 2.5801 - val_loss: 2.6000 - val_mean_absolute_error: 2.6000\n",
      "Epoch 79/100\n",
      "132/132 - 1s - loss: 2.5445 - mean_absolute_error: 2.5445 - val_loss: 2.5377 - val_mean_absolute_error: 2.5377\n",
      "Epoch 80/100\n",
      "132/132 - 1s - loss: 2.5806 - mean_absolute_error: 2.5806 - val_loss: 2.5550 - val_mean_absolute_error: 2.5550\n",
      "Epoch 81/100\n",
      "132/132 - 1s - loss: 2.5618 - mean_absolute_error: 2.5618 - val_loss: 2.5931 - val_mean_absolute_error: 2.5931\n",
      "Epoch 82/100\n",
      "132/132 - 1s - loss: 2.5801 - mean_absolute_error: 2.5801 - val_loss: 2.6359 - val_mean_absolute_error: 2.6359\n",
      "Epoch 83/100\n",
      "132/132 - 1s - loss: 2.5868 - mean_absolute_error: 2.5868 - val_loss: 2.5878 - val_mean_absolute_error: 2.5878\n",
      "Epoch 84/100\n",
      "132/132 - 1s - loss: 2.5858 - mean_absolute_error: 2.5858 - val_loss: 2.5759 - val_mean_absolute_error: 2.5759\n",
      "Epoch 85/100\n",
      "132/132 - 1s - loss: 2.6125 - mean_absolute_error: 2.6125 - val_loss: 2.5919 - val_mean_absolute_error: 2.5919\n",
      "Epoch 86/100\n",
      "132/132 - 1s - loss: 2.5596 - mean_absolute_error: 2.5596 - val_loss: 2.5212 - val_mean_absolute_error: 2.5212\n",
      "Epoch 87/100\n",
      "132/132 - 1s - loss: 2.5607 - mean_absolute_error: 2.5607 - val_loss: 2.6076 - val_mean_absolute_error: 2.6076\n",
      "Epoch 88/100\n",
      "132/132 - 1s - loss: 2.5556 - mean_absolute_error: 2.5556 - val_loss: 2.5885 - val_mean_absolute_error: 2.5885\n",
      "Epoch 89/100\n",
      "132/132 - 1s - loss: 2.5375 - mean_absolute_error: 2.5375 - val_loss: 2.5625 - val_mean_absolute_error: 2.5625\n",
      "Epoch 90/100\n",
      "132/132 - 1s - loss: 2.6213 - mean_absolute_error: 2.6213 - val_loss: 2.5757 - val_mean_absolute_error: 2.5757\n",
      "Epoch 91/100\n",
      "132/132 - 1s - loss: 2.5780 - mean_absolute_error: 2.5780 - val_loss: 2.5450 - val_mean_absolute_error: 2.5450\n",
      "Epoch 92/100\n",
      "132/132 - 1s - loss: 2.5426 - mean_absolute_error: 2.5426 - val_loss: 2.5568 - val_mean_absolute_error: 2.5568\n",
      "Epoch 93/100\n",
      "132/132 - 1s - loss: 2.5845 - mean_absolute_error: 2.5845 - val_loss: 2.5895 - val_mean_absolute_error: 2.5895\n",
      "Epoch 94/100\n",
      "132/132 - 1s - loss: 2.5662 - mean_absolute_error: 2.5662 - val_loss: 2.5462 - val_mean_absolute_error: 2.5462\n",
      "Epoch 95/100\n",
      "132/132 - 1s - loss: 2.5319 - mean_absolute_error: 2.5319 - val_loss: 2.5132 - val_mean_absolute_error: 2.5132\n",
      "Epoch 96/100\n",
      "132/132 - 1s - loss: 2.5789 - mean_absolute_error: 2.5789 - val_loss: 2.5585 - val_mean_absolute_error: 2.5585\n",
      "Epoch 97/100\n",
      "132/132 - 1s - loss: 2.5706 - mean_absolute_error: 2.5706 - val_loss: 2.5597 - val_mean_absolute_error: 2.5597\n",
      "Epoch 98/100\n",
      "132/132 - 2s - loss: 2.5412 - mean_absolute_error: 2.5412 - val_loss: 2.5991 - val_mean_absolute_error: 2.5991\n",
      "Epoch 99/100\n",
      "132/132 - 2s - loss: 2.5815 - mean_absolute_error: 2.5815 - val_loss: 2.4826 - val_mean_absolute_error: 2.4826\n",
      "Epoch 100/100\n",
      "132/132 - 1s - loss: 2.5507 - mean_absolute_error: 2.5507 - val_loss: 2.5512 - val_mean_absolute_error: 2.5512\n"
     ]
    }
   ],
   "source": [
    "model = GetModel()\n",
    "model.summary()\n",
    "nEpochs = 100\n",
    "\n",
    "#callback = tf.keras.callbacks.EarlyStopping(monitor='val_loss', patience=40)\n",
    "\n",
    "history = model.fit(x_train_scaled, y_train_flatten , epochs=nEpochs,\n",
    "                    use_multiprocessing=True,\n",
    "                    verbose=2,\n",
    "                    shuffle=True,\n",
    "                    validation_data= (x_test_scaled, y_test_flatten),\n",
    "                    #callbacks=[callback]\n",
    "                   )\n"
   ]
  },
  {
   "cell_type": "code",
   "execution_count": 131,
   "metadata": {},
   "outputs": [
    {
     "name": "stdout",
     "output_type": "stream",
     "text": [
      "33/33 [==============================] - 0s 3ms/step\n"
     ]
    }
   ],
   "source": [
    "prediction_score = []\n",
    "mae_scores = []\n",
    "predictions = model.predict(x_test_scaled, verbose = 1) #make predictons on the test data \n",
    "prediction_score.append(predictions)\n",
    "\n",
    "mae = mean_absolute_error(predictions, y_test_flatten) #calculating MAE between our actual output labels and the predicted otuput labels\n",
    "mae_scores.append(mae)"
   ]
  },
  {
   "cell_type": "code",
   "execution_count": 132,
   "metadata": {},
   "outputs": [
    {
     "name": "stdout",
     "output_type": "stream",
     "text": [
      "2.5654110937400465\n"
     ]
    }
   ],
   "source": [
    "print(np.mean(mae_scores)) #average of mean absolute errors\n"
   ]
  },
  {
   "cell_type": "code",
   "execution_count": 133,
   "metadata": {},
   "outputs": [],
   "source": [
    "ef_sample_submission = pd.read_csv(\"ef_sample_submission.csv\")"
   ]
  },
  {
   "cell_type": "code",
   "execution_count": 134,
   "metadata": {},
   "outputs": [],
   "source": [
    "ef_sample_submission = ef_sample_submission.iloc[:, 1:]\n",
    "seg =  ef_sample_submission.iloc[:, 0:1]\n",
    "ef_sample_submission = ef_sample_submission.iloc[:, 1:]"
   ]
  },
  {
   "cell_type": "code",
   "execution_count": 135,
   "metadata": {},
   "outputs": [],
   "source": [
    "X_test_scaled = scaler.transform(ef_sample_submission)\n"
   ]
  },
  {
   "cell_type": "code",
   "execution_count": 136,
   "metadata": {},
   "outputs": [
    {
     "name": "stdout",
     "output_type": "stream",
     "text": [
      "82/82 [==============================] - 0s 4ms/step\n"
     ]
    }
   ],
   "source": [
    "predictions = model.predict(X_test_scaled, verbose = 1)\n"
   ]
  },
  {
   "cell_type": "code",
   "execution_count": 137,
   "metadata": {},
   "outputs": [
    {
     "data": {
      "text/plain": [
       "array([[ 3.550687 ],\n",
       "       [ 7.5158644],\n",
       "       [ 5.4722347],\n",
       "       ...,\n",
       "       [ 3.8041677],\n",
       "       [ 1.8148482],\n",
       "       [12.161914 ]], dtype=float32)"
      ]
     },
     "execution_count": 137,
     "metadata": {},
     "output_type": "execute_result"
    }
   ],
   "source": [
    "predictions"
   ]
  },
  {
   "cell_type": "code",
   "execution_count": 138,
   "metadata": {},
   "outputs": [
    {
     "data": {
      "text/plain": [
       "array([['seg_00030f', 3.550687074661255],\n",
       "       ['seg_0012b5', 7.515864372253418],\n",
       "       ['seg_00184e', 5.472234725952148],\n",
       "       ...,\n",
       "       ['seg_ff79d9', 3.8041677474975586],\n",
       "       ['seg_ffbd6a', 1.8148481845855713],\n",
       "       ['seg_ffe7cc', 12.161913871765137]], dtype=object)"
      ]
     },
     "execution_count": 138,
     "metadata": {},
     "output_type": "execute_result"
    }
   ],
   "source": [
    "np.column_stack([seg, predictions])"
   ]
  },
  {
   "cell_type": "code",
   "execution_count": 139,
   "metadata": {},
   "outputs": [],
   "source": [
    "final = pd.DataFrame(np.column_stack([seg, predictions]))\n",
    "final[\"seg_id\"] =  final.iloc[:, 0:1]\n",
    "final[\"time_to_failure\"] = final.iloc[:, 1:2]\n",
    "final = final.iloc[:, 2:]\n",
    "final[\"time_to_failure\"] = final[\"time_to_failure\"].astype(\"float64\")\n",
    "final.to_csv(\"sample_submission.csv\", index = False )"
   ]
  },
  {
   "cell_type": "code",
   "execution_count": null,
   "metadata": {},
   "outputs": [],
   "source": []
  }
 ],
 "metadata": {
  "kernelspec": {
   "display_name": "Python 3",
   "language": "python",
   "name": "python3"
  },
  "language_info": {
   "codemirror_mode": {
    "name": "ipython",
    "version": 3
   },
   "file_extension": ".py",
   "mimetype": "text/x-python",
   "name": "python",
   "nbconvert_exporter": "python",
   "pygments_lexer": "ipython3",
   "version": "3.6.9"
  }
 },
 "nbformat": 4,
 "nbformat_minor": 2
}
