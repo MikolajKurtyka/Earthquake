{
 "cells": [
  {
   "cell_type": "code",
   "execution_count": null,
   "metadata": {},
   "outputs": [],
   "source": [
    "import pandas as pd\n",
    "import numpy as np\n",
    "import matplotlib.pyplot as plt\n",
    "import pickle\n",
    "import time\n",
    "import gc\n",
    "from scipy.signal import find_peaks"
   ]
  },
  {
   "cell_type": "code",
   "execution_count": null,
   "metadata": {},
   "outputs": [],
   "source": [
    "peaks_array = []\n",
    "peaks_array.append(0)\n",
    "\n",
    "nrows = 100000000 \n",
    "train_data = pd.read_csv(\"train.csv\",  dtype={'acoustic_data': np.int16, 'time_to_failure': np.float64}, iterator=True)\n",
    "for i in range(0, 7):\n",
    "    start = time.time()\n",
    "    i_df = train_data.get_chunk(nrows)\n",
    "    print(i_df)\n",
    "    end = time.time()\n",
    "    peaks, _ = find_peaks(i_df['time_to_failure'])\n",
    "    for peak in peaks:\n",
    "        peaks_array.append(peak + i*nrows)\n",
    "    print(end - start)\n",
    "    del i_df\n",
    "del train_data\n",
    "gc.collect()"
   ]
  },
  {
   "cell_type": "code",
   "execution_count": null,
   "metadata": {},
   "outputs": [],
   "source": [
    "for peak in peaks_array:\n",
    "    print(peak)"
   ]
  },
  {
   "cell_type": "code",
   "execution_count": null,
   "metadata": {},
   "outputs": [],
   "source": [
    "train_data = pd.read_csv(\"train.csv\",  dtype={'acoustic_data': np.int16, 'time_to_failure': np.float64}, iterator=True)\n",
    "train_dir = \"train/\"\n",
    "for i in range(0, len(peaks_array)-2):\n",
    "    start = time.time()\n",
    "    i_df = train_data.get_chunk(peaks_array[i+1]-peaks_array[i])\n",
    "    i_df.to_csv(train_dir + \"raw_peak\" + str(i) + \".csv\")\n",
    "    print(i_df)\n",
    "    end = time.time()\n",
    "    print(end - start)\n",
    "    del i_df\n",
    "del train_data\n",
    "gc.collect()"
   ]
  }
 ],
 "metadata": {
  "kernelspec": {
   "display_name": "Python 3",
   "language": "python",
   "name": "python3"
  },
  "language_info": {
   "codemirror_mode": {
    "name": "ipython",
    "version": 3
   },
   "file_extension": ".py",
   "mimetype": "text/x-python",
   "name": "python",
   "nbconvert_exporter": "python",
   "pygments_lexer": "ipython3",
   "version": "3.6.9"
  }
 },
 "nbformat": 4,
 "nbformat_minor": 2
}
